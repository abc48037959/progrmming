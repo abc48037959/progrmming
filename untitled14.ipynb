{
  "nbformat": 4,
  "nbformat_minor": 0,
  "metadata": {
    "colab": {
      "provenance": [],
      "authorship_tag": "ABX9TyO7HEcfjfMf9kU+etsOdLsm",
      "include_colab_link": true
    },
    "kernelspec": {
      "name": "python3",
      "display_name": "Python 3"
    },
    "language_info": {
      "name": "python"
    }
  },
  "cells": [
    {
      "cell_type": "markdown",
      "metadata": {
        "id": "view-in-github",
        "colab_type": "text"
      },
      "source": [
        "<a href=\"https://colab.research.google.com/github/abc48037959/progrmming/blob/main/untitled14.ipynb\" target=\"_parent\"><img src=\"https://colab.research.google.com/assets/colab-badge.svg\" alt=\"Open In Colab\"/></a>"
      ]
    },
    {
      "cell_type": "code",
      "source": [
        "rooms = {1: 'Foyer', 2: 'Conference Room'}\n",
        "room = input('Enter the room number: ')\n",
        "room = int(room)  # Convert input to an integer\n",
        "if not room in rooms:\n",
        "    print('Room does not exist.')\n",
        "else:\n",
        "    print(\"The room name is \" + rooms[room])"
      ],
      "metadata": {
        "colab": {
          "base_uri": "https://localhost:8080/"
        },
        "id": "wyX58cDRa1yB",
        "outputId": "21a7e6a8-cbe5-4a18-fdc6-ed3440e91533"
      },
      "execution_count": null,
      "outputs": [
        {
          "output_type": "stream",
          "name": "stdout",
          "text": [
            "Enter the room number: 1\n",
            "The room name is Foyer\n"
          ]
        }
      ]
    }
  ]
}